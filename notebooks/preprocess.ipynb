{
 "cells": [
  {
   "cell_type": "code",
   "execution_count": 1,
   "metadata": {},
   "outputs": [],
   "source": [
    "import matplotlib.pyplot as plt\n",
    "import seaborn as sns\n",
    "import pandas as pd\n",
    "import pyreadstat\n",
    "\n",
    "sns.set_theme()"
   ]
  },
  {
   "cell_type": "code",
   "execution_count": null,
   "metadata": {},
   "outputs": [],
   "source": [
    "df, meta = pyreadstat.read_sav(\"../dataset.sav\", encoding=\"LATIN1\")\n",
    "df"
   ]
  },
  {
   "cell_type": "code",
   "execution_count": null,
   "metadata": {},
   "outputs": [],
   "source": [
    "# Fix encoding\n",
    "#meta.variable_value_labels = {k: {v.encode(\"LATIN1\").decode(\"UTF-8\"): k for k, v in meta.value_labels[k].items()} for k in meta.value_labels.keys()}\n",
    "meta.value_labels = {k: {v.encode(\"LATIN1\").decode(\"UTF-8\"): k for k, v in meta.value_labels[k].items()} for k in meta.value_labels.keys()}\n",
    "#meta.column_labels = {k: v.encode(\"LATIN1\").decode(\"UTF-8\") for k, v in meta.column_labels.items()}\n",
    "#meta.column_names_to_labels = {k: v.encode(\"LATIN1\").decode(\"UTF-8\") for k, v in meta.column_names_to_labels.items()}"
   ]
  },
  {
   "cell_type": "code",
   "execution_count": null,
   "metadata": {},
   "outputs": [],
   "source": [
    "_df = df.dropna(subset=[\"REG\", \"PRO\", \"LANG1\"]) # filter out missing values for region, province, or language"
   ]
  },
  {
   "cell_type": "code",
   "execution_count": null,
   "metadata": {},
   "outputs": [],
   "source": [
    "_df = _df.loc[_df[\"NATIO\"] == 1] # filter out non-Moroccans\n",
    "_df = _df.loc[_df[\"AGE1\"] >= 18] # filter out minors\n",
    "_df = _df.loc[_df[\"HANDI.VIS\"] <= 2] # filter out visual disability\n",
    "_df = _df.loc[_df[\"HANDI.AUD\"] <= 2] # filter out auditory disability\n",
    "_df = _df.loc[_df[\"HANDI.MEM\"] <= 2] # filter out memory disability\n",
    "_df = _df.loc[_df[\"HANDI.COM\"] <= 2] # filter out communication disability\n",
    "_df = _df.loc[_df[\"LIR.ECR\"] <= 2] # filter out unknown literacy"
   ]
  },
  {
   "cell_type": "code",
   "execution_count": null,
   "metadata": {},
   "outputs": [],
   "source": [
    "_df"
   ]
  },
  {
   "cell_type": "code",
   "execution_count": null,
   "metadata": {},
   "outputs": [],
   "source": [
    "sns.catplot(data=_df.loc[_df[\"LANG1\"] > 1], x=\"REG\", hue=\"LANG1\", kind=\"count\")\n",
    "plt.show()"
   ]
  },
  {
   "cell_type": "code",
   "execution_count": null,
   "metadata": {},
   "outputs": [],
   "source": [
    "df_out = pyreadstat.set_value_labels(_df, meta)\n",
    "#df_out.to_csv(\"../dataset.csv\", index=False)\n",
    "df_out"
   ]
  },
  {
   "cell_type": "code",
   "execution_count": 36,
   "metadata": {},
   "outputs": [
    {
     "ename": "",
     "evalue": "",
     "output_type": "error",
     "traceback": [
      "\u001b[1;31mCanceled future for execute_request message before replies were done"
     ]
    },
    {
     "ename": "",
     "evalue": "",
     "output_type": "error",
     "traceback": [
      "\u001b[1;31mThe Kernel crashed while executing code in the the current cell or a previous cell. Please review the code in the cell(s) to identify a possible cause of the failure. Click <a href='https://aka.ms/vscodeJupyterKernelCrash'>here</a> for more info. View Jupyter <a href='command:jupyter.viewOutput'>log</a> for further details."
     ]
    }
   ],
   "source": [
    "df_out = df.copy()\n",
    "\n",
    "if meta.value_labels and meta.variable_to_label:\n",
    "    for var_name, label_name in meta.variable_to_label.items():\n",
    "        labels = meta.value_labels.get(label_name)\n",
    "        if labels:\n",
    "            if var_name in df_out.columns:\n",
    "                df_out[var_name] = df_out[var_name].apply(lambda x: labels.get(x, x))\n",
    "                \n",
    "df_out"
   ]
  }
 ],
 "metadata": {
  "kernelspec": {
   "display_name": "Python 3.8.10 ('notebooks-CbTU6MSR')",
   "language": "python",
   "name": "python3"
  },
  "language_info": {
   "codemirror_mode": {
    "name": "ipython",
    "version": 3
   },
   "file_extension": ".py",
   "mimetype": "text/x-python",
   "name": "python",
   "nbconvert_exporter": "python",
   "pygments_lexer": "ipython3",
   "version": "3.8.10"
  },
  "orig_nbformat": 4,
  "vscode": {
   "interpreter": {
    "hash": "23e721e482a6b7fc01c82892fa473bceb9bee2650459131ed7c21e08870efdaf"
   }
  }
 },
 "nbformat": 4,
 "nbformat_minor": 2
}
